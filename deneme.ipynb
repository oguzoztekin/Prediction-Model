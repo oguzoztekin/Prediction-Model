{
 "cells": [
  {
   "cell_type": "code",
   "execution_count": 4,
   "metadata": {},
   "outputs": [
    {
     "name": "stderr",
     "output_type": "stream",
     "text": [
      "C:\\Users\\oguzo\\AppData\\Local\\Temp\\ipykernel_7188\\982803221.py:18: SettingWithCopyWarning: \n",
      "A value is trying to be set on a copy of a slice from a DataFrame.\n",
      "Try using .loc[row_indexer,col_indexer] = value instead\n",
      "\n",
      "See the caveats in the documentation: https://pandas.pydata.org/pandas-docs/stable/user_guide/indexing.html#returning-a-view-versus-a-copy\n",
      "  matches_df_clean['venue'] = label_encoder.fit_transform(matches_df_clean['venue'])\n",
      "C:\\Users\\oguzo\\AppData\\Local\\Temp\\ipykernel_7188\\982803221.py:19: SettingWithCopyWarning: \n",
      "A value is trying to be set on a copy of a slice from a DataFrame.\n",
      "Try using .loc[row_indexer,col_indexer] = value instead\n",
      "\n",
      "See the caveats in the documentation: https://pandas.pydata.org/pandas-docs/stable/user_guide/indexing.html#returning-a-view-versus-a-copy\n",
      "  matches_df_clean['result'] = label_encoder.fit_transform(matches_df_clean['result'])  # Target column\n"
     ]
    },
    {
     "data": {
      "text/plain": [
       "(0.9928057553956835,\n",
       " '              precision    recall  f1-score   support\\n\\n           0       0.97      1.00      0.98        59\\n           1       1.00      0.99      1.00       112\\n           2       1.00      0.99      1.00       107\\n\\n    accuracy                           0.99       278\\n   macro avg       0.99      0.99      0.99       278\\nweighted avg       0.99      0.99      0.99       278\\n')"
      ]
     },
     "execution_count": 4,
     "metadata": {},
     "output_type": "execute_result"
    }
   ],
   "source": [
    "from sklearn.model_selection import train_test_split\n",
    "from sklearn.ensemble import RandomForestClassifier\n",
    "from sklearn.metrics import accuracy_score, classification_report\n",
    "from sklearn.preprocessing import LabelEncoder\n",
    "import pandas as pd\n",
    "\n",
    "# Load the CSV file\n",
    "file_path = 'matches.csv'\n",
    "matches_df = pd.read_csv(file_path)\n",
    "# Veriyi hazırlama\n",
    "# Gereksiz sütunları kaldırıyoruz\n",
    "matches_df_clean = matches_df[['gf', 'ga', 'sh', 'sot', 'venue', 'result']]\n",
    "\n",
    "# Kategorik değişkenler için etiketleme\n",
    "label_encoder = LabelEncoder()\n",
    "\n",
    "# \"venue\" ve \"result\" kategorik değişkenlerini sayısal değerlere dönüştürüyoruz\n",
    "matches_df_clean['venue'] = label_encoder.fit_transform(matches_df_clean['venue'])\n",
    "matches_df_clean['result'] = label_encoder.fit_transform(matches_df_clean['result'])  # Target column\n",
    "\n",
    "# Özellikler (X) ve hedef değişkeni (y) ayırma\n",
    "X = matches_df_clean.drop(columns=['result'])\n",
    "y = matches_df_clean['result']\n",
    "\n",
    "# Veriyi eğitim ve test setlerine ayırma\n",
    "X_train, X_test, y_train, y_test = train_test_split(X, y, test_size=0.2, random_state=42)\n",
    "\n",
    "# Model oluşturma\n",
    "rf_model = RandomForestClassifier(n_estimators=100, random_state=42)\n",
    "\n",
    "# Modeli eğitme\n",
    "rf_model.fit(X_train, y_train)\n",
    "\n",
    "# Test verisi üzerinde tahmin yapma\n",
    "y_pred = rf_model.predict(X_test)\n",
    "\n",
    "# Modeli değerlendirme\n",
    "accuracy = accuracy_score(y_test, y_pred)\n",
    "classification_rep = classification_report(y_test, y_pred)\n",
    "\n",
    "accuracy, classification_rep\n"
   ]
  }
 ],
 "metadata": {
  "kernelspec": {
   "display_name": "Python 3",
   "language": "python",
   "name": "python3"
  },
  "language_info": {
   "codemirror_mode": {
    "name": "ipython",
    "version": 3
   },
   "file_extension": ".py",
   "mimetype": "text/x-python",
   "name": "python",
   "nbconvert_exporter": "python",
   "pygments_lexer": "ipython3",
   "version": "3.11.9"
  }
 },
 "nbformat": 4,
 "nbformat_minor": 2
}
